{
  "nbformat": 4,
  "nbformat_minor": 0,
  "metadata": {
    "colab": {
      "provenance": [],
      "toc_visible": true,
      "include_colab_link": true
    },
    "kernelspec": {
      "name": "python3",
      "display_name": "Python 3"
    },
    "language_info": {
      "name": "python"
    }
  },
  "cells": [
    {
      "cell_type": "markdown",
      "metadata": {
        "id": "view-in-github",
        "colab_type": "text"
      },
      "source": [
        "<a href=\"https://colab.research.google.com/github/JocksanValerdi/Python-CISC179/blob/main/Lists.ipynb\" target=\"_parent\"><img src=\"https://colab.research.google.com/assets/colab-badge.svg\" alt=\"Open In Colab\"/></a>"
      ]
    },
    {
      "cell_type": "markdown",
      "source": [
        "# Lists in Python\n",
        "A list is an ordered collection of elements, and each element can be of any data type, such as numbers, strings, Booleans, or even other lists. In Python, lists are mutable, meaning their contents can be changed. Lists are particularly useful when you want to handle a group of related values.\n",
        "\n",
        "## Objective\n",
        "- Comprehend the application of lists\n",
        "- Understand how a list uses memory\n",
        "- Apply various operations on a list\n",
        "\n",
        "## Prerequisite\n",
        "\n",
        "- Decision statements\n",
        "- Input functions\n",
        "- Python literals\n",
        "- Programming variables\n",
        "\n",
        "\n",
        "## What do you need to complete this exercise?\n",
        "\n",
        "You can perform this exercise in any Python IDE, including JupyterLab or Google Colab.\n"
      ],
      "metadata": {
        "id": "2ITy4ycVFXBq"
      }
    },
    {
      "cell_type": "markdown",
      "source": [
        "a) a. Using a range function, generate a list of 100 integers and assign the list to ```my_list```. Verify that the variable ```my_list``` data type is list. Use your favorite four methods and apply on the list. You can find the methods on [Python Docs](https://docs.python.org/3/tutorial/datastructures.html)"
      ],
      "metadata": {
        "id": "uQxH0KO0tsDc"
      }
    },
    {
      "cell_type": "code",
      "source": [
        "my_list = list(range(100))\n",
        "\n",
        "print(type(my_list))\n",
        "\n",
        "print(my_list[0:101])\n",
        "print(len(my_list))\n"
      ],
      "metadata": {
        "id": "rRTflD1C9mjt",
        "outputId": "ee4abb95-3bc5-4103-f65a-a18ae4580a4e",
        "colab": {
          "base_uri": "https://localhost:8080/"
        }
      },
      "execution_count": 8,
      "outputs": [
        {
          "output_type": "stream",
          "name": "stdout",
          "text": [
            "<class 'list'>\n",
            "[0, 1, 2, 3, 4, 5, 6, 7, 8, 9, 10, 11, 12, 13, 14, 15, 16, 17, 18, 19, 20, 21, 22, 23, 24, 25, 26, 27, 28, 29, 30, 31, 32, 33, 34, 35, 36, 37, 38, 39, 40, 41, 42, 43, 44, 45, 46, 47, 48, 49, 50, 51, 52, 53, 54, 55, 56, 57, 58, 59, 60, 61, 62, 63, 64, 65, 66, 67, 68, 69, 70, 71, 72, 73, 74, 75, 76, 77, 78, 79, 80, 81, 82, 83, 84, 85, 86, 87, 88, 89, 90, 91, 92, 93, 94, 95, 96, 97, 98, 99]\n",
            "100\n"
          ]
        }
      ]
    },
    {
      "cell_type": "markdown",
      "source": [
        "b. Suppose that you have a list of 10 items long. How might you move the last three items from the end of the list to the beginning, keeping them in the same order?"
      ],
      "metadata": {
        "id": "0jkTuRdlA6sk"
      }
    },
    {
      "cell_type": "code",
      "source": [
        "my_list = list(range(10))\n",
        "print(\"Original list:\", my_list)\n",
        "\n",
        "last_three = my_list[-3:]\n",
        "my_list = my_list[:-3]\n",
        "my_list = last_three + my_list\n",
        "\n",
        "print(\"Modified list:\", my_list)"
      ],
      "metadata": {
        "id": "8ZIVOfAMQt2Z",
        "outputId": "638f163f-fe9e-4ad4-958d-b213e1521703",
        "colab": {
          "base_uri": "https://localhost:8080/"
        }
      },
      "execution_count": 10,
      "outputs": [
        {
          "output_type": "stream",
          "name": "stdout",
          "text": [
            "Original list: [0, 1, 2, 3, 4, 5, 6, 7, 8, 9]\n",
            "Modified list: [7, 8, 9, 0, 1, 2, 3, 4, 5, 6]\n"
          ]
        }
      ]
    },
    {
      "cell_type": "markdown",
      "source": [
        "c. What would be the result of ```len([[1,2]] * 3)```? Try to do it without coding and then verify using Python."
      ],
      "metadata": {
        "id": "Wv1LOaouA_Gq"
      }
    },
    {
      "cell_type": "markdown",
      "source": [
        "The result is three because into the sedond brackets ther is a list, just one, so after that we multiplied that list three times"
      ],
      "metadata": {
        "id": "MHGEcpTdgfT0"
      }
    },
    {
      "cell_type": "code",
      "source": [
        "result = len([[1, 2]] * 3)\n",
        "print(result)"
      ],
      "metadata": {
        "id": "cF0UyMIqQ8V3",
        "outputId": "5b74c4b7-e5ec-4b4f-f44e-3fe701286d58",
        "colab": {
          "base_uri": "https://localhost:8080/"
        }
      },
      "execution_count": 11,
      "outputs": [
        {
          "output_type": "stream",
          "name": "stdout",
          "text": [
            "3\n"
          ]
        }
      ]
    },
    {
      "cell_type": "markdown",
      "source": [
        "d. Create a list ```my-list-ten``` of 10 items that includes some duplicate entries. Then, generate a second list ```my-list-ten-mem``` that contains the memory addresses of the items from the list ```my-list-ten```. Use Python to research and identify the unique and duplicate memory addresses."
      ],
      "metadata": {
        "id": "0IWZsl7LBGvD"
      }
    },
    {
      "cell_type": "code",
      "source": [
        "my_list_ten = [1, 2, 3, 4, 5, 3, 2, 6, 7, 1]\n",
        "\n",
        "my_list_ten_mem = [id(item) for item in my_list_ten]\n",
        "\n",
        "unique_addresses = set()\n",
        "duplicate_addresses = set()\n",
        "\n",
        "for addr in my_list_ten_mem:\n",
        "    if addr in unique_addresses:\n",
        "        duplicate_addresses.add(addr)\n",
        "    else:\n",
        "        unique_addresses.add(addr)\n",
        "\n",
        "print(\"Memory Addresses:\", my_list_ten_mem)\n",
        "print(\"Unique Memory Addresses:\", unique_addresses)\n",
        "print(\"Duplicate Memory Addresses:\", duplicate_addresses)"
      ],
      "metadata": {
        "id": "S5kO371-Q_NL",
        "outputId": "ab534b6b-8140-4245-b381-c70032e6c113",
        "colab": {
          "base_uri": "https://localhost:8080/"
        }
      },
      "execution_count": 16,
      "outputs": [
        {
          "output_type": "stream",
          "name": "stdout",
          "text": [
            "Memory Addresses: [10750856, 10750888, 10750920, 10750952, 10750984, 10750920, 10750888, 10751016, 10751048, 10750856]\n",
            "Unique Memory Addresses: {10750856, 10750984, 10750952, 10750888, 10750920, 10751016, 10751048}\n",
            "Duplicate Memory Addresses: {10750920, 10750856, 10750888}\n"
          ]
        }
      ]
    },
    {
      "cell_type": "markdown",
      "source": [
        "e. Delete the list ```my-list-ten``` created in the above step."
      ],
      "metadata": {
        "id": "tJlIQIYjBPLX"
      }
    },
    {
      "cell_type": "code",
      "source": [
        "print(my_list_ten)\n",
        "\n",
        "del my_list_ten\n",
        "\n",
        "try:\n",
        "    print(my_list_ten)\n",
        "except NameError:\n",
        "    print(\"my_list_ten has been deleted.\")"
      ],
      "metadata": {
        "id": "fQr5X9N0RceU",
        "outputId": "d060aa6c-2634-4ce7-996a-301975d8a5b8",
        "colab": {
          "base_uri": "https://localhost:8080/"
        }
      },
      "execution_count": 20,
      "outputs": [
        {
          "output_type": "stream",
          "name": "stdout",
          "text": [
            "[1, 2, 3, 4, 5, 3, 2, 6, 7, 1]\n",
            "my_list_ten has been deleted.\n"
          ]
        }
      ]
    },
    {
      "cell_type": "markdown",
      "source": [
        "f. Create a new list ```my-new-list``` of the same 10 items used in ```my-list-ten```. Generate memory addresses of the items in ```my-new-list``` and compare them with the memory addresses in ```my-list-ten-mem```. Discuss what do you observe."
      ],
      "metadata": {
        "id": "jflVX2GHBT3-"
      }
    },
    {
      "cell_type": "code",
      "source": [
        "my_new_list = [1, 2, 3, 4, 5, 3, 2, 6, 7, 1]\n",
        "\n",
        "my_new_list_mem = [id(item) for item in my_new_list]\n",
        "\n",
        "print(\"Old Memory Addresses:\", my_list_ten_mem)\n",
        "print(\"New Memory Addresses:\", my_new_list_mem)\n",
        "\n",
        "same_addresses = my_list_ten_mem == my_new_list_mem\n",
        "print(\"Are memory addresses the same?\", same_addresses)"
      ],
      "metadata": {
        "id": "QacofGe4RdZX",
        "outputId": "9f4e8f72-208b-4dea-ccea-78bceb3f3b6f",
        "colab": {
          "base_uri": "https://localhost:8080/"
        }
      },
      "execution_count": 21,
      "outputs": [
        {
          "output_type": "stream",
          "name": "stdout",
          "text": [
            "Old Memory Addresses: [10750856, 10750888, 10750920, 10750952, 10750984, 10750920, 10750888, 10751016, 10751048, 10750856]\n",
            "New Memory Addresses: [10750856, 10750888, 10750920, 10750952, 10750984, 10750920, 10750888, 10751016, 10751048, 10750856]\n",
            "Are memory addresses the same? True\n"
          ]
        }
      ]
    },
    {
      "cell_type": "markdown",
      "source": [
        "How could this part compare with the first list if was already deleted?"
      ],
      "metadata": {
        "id": "Il4ntOxsjItk"
      }
    },
    {
      "cell_type": "markdown",
      "source": [
        "g. Suppose that you have the following list: ```x = [[1, 2, 3], [4, 5, 6], [7, 8, 9]]```. What code could you use to get a copy ```y``` of that list in which you could change the elements without the side effect of changing the contents of ```x```?"
      ],
      "metadata": {
        "id": "BRZq7VPZBYsN"
      }
    },
    {
      "cell_type": "code",
      "source": [
        "x = [[1, 2, 3], [4, 5, 6], [7, 8, 9]]\n",
        "\n",
        "y = [sublist[:] for sublist in x]\n",
        "\n",
        "y[0][0] = 99\n",
        "\n",
        "print(\"x:\", x)\n",
        "print(\"y:\", y)"
      ],
      "metadata": {
        "id": "5M7ksW8xsC3k",
        "outputId": "8ef208bc-1ec5-49c8-e54b-2bf5c4f92ac1",
        "colab": {
          "base_uri": "https://localhost:8080/"
        }
      },
      "execution_count": 22,
      "outputs": [
        {
          "output_type": "stream",
          "name": "stdout",
          "text": [
            "x: [[1, 2, 3], [4, 5, 6], [7, 8, 9]]\n",
            "y: [[99, 2, 3], [4, 5, 6], [7, 8, 9]]\n"
          ]
        }
      ]
    },
    {
      "cell_type": "markdown",
      "source": [
        "h. Is it possible to use multiple expressions within a list comprehension?"
      ],
      "metadata": {
        "id": "LUIwtfcJBnsq"
      }
    },
    {
      "cell_type": "code",
      "source": [
        "True"
      ],
      "metadata": {
        "id": "7xxHmgPKBoSc",
        "outputId": "a86e3ca5-3ca2-4133-cb60-249bddf1bf30",
        "colab": {
          "base_uri": "https://localhost:8080/"
        }
      },
      "execution_count": 23,
      "outputs": [
        {
          "output_type": "execute_result",
          "data": {
            "text/plain": [
              "True"
            ]
          },
          "metadata": {},
          "execution_count": 23
        }
      ]
    },
    {
      "cell_type": "markdown",
      "source": [
        "i. Using a list comprehension, count how many spaces are in the following statement.\n",
        "\"To be, or not to be, this is the question\""
      ],
      "metadata": {
        "id": "dV-_5n78BxH4"
      }
    },
    {
      "cell_type": "code",
      "source": [
        "statement = \"To be, or not to be, this is the question\"\n",
        "\n",
        "space_count = sum([1 for char in statement if char == \" \"])\n",
        "\n",
        "print(\"Number of spaces:\", space_count)"
      ],
      "metadata": {
        "id": "1C6WRbQ1I_up",
        "outputId": "d2c91a18-660f-46a7-c220-4c4f47b5b3b4",
        "colab": {
          "base_uri": "https://localhost:8080/"
        }
      },
      "execution_count": 24,
      "outputs": [
        {
          "output_type": "stream",
          "name": "stdout",
          "text": [
            "Number of spaces: 9\n"
          ]
        }
      ]
    },
    {
      "cell_type": "markdown",
      "source": [
        "j. Choose any 5 lists operations of your choice from the link https://docs.python.org/3/tutorial/datastructures.html\n"
      ],
      "metadata": {
        "id": "QJQ3mnTyIz7c"
      }
    },
    {
      "cell_type": "code",
      "source": [
        "list.append(x)\n",
        "list.extend(iterable)\n",
        "list.insert(i, x)\n",
        "list.pop([i])\n",
        "list.sort(key=None, reverse=False)"
      ],
      "metadata": {
        "id": "7JcT_W26B0Nu"
      },
      "execution_count": null,
      "outputs": []
    },
    {
      "cell_type": "markdown",
      "source": [
        "## Challenges\n",
        "\n",
        "Please describe the challenges you faced during the exercise."
      ],
      "metadata": {
        "id": "xQzjxKdvvbyo"
      }
    },
    {
      "cell_type": "markdown",
      "source": [
        "There where no problems, well i just don't know what else i had to do in the \"j\" excercise"
      ],
      "metadata": {
        "id": "qfJNpTB5EbY4"
      }
    }
  ]
}