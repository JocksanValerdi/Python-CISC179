{
  "nbformat": 4,
  "nbformat_minor": 0,
  "metadata": {
    "colab": {
      "provenance": [],
      "toc_visible": true,
      "include_colab_link": true
    },
    "kernelspec": {
      "name": "python3",
      "display_name": "Python 3"
    },
    "language_info": {
      "name": "python"
    }
  },
  "cells": [
    {
      "cell_type": "markdown",
      "metadata": {
        "id": "view-in-github",
        "colab_type": "text"
      },
      "source": [
        "<a href=\"https://colab.research.google.com/github/JocksanValerdi/Python-CISC179/blob/main/Input.ipynb\" target=\"_parent\"><img src=\"https://colab.research.google.com/assets/colab-badge.svg\" alt=\"Open In Colab\"/></a>"
      ]
    },
    {
      "cell_type": "markdown",
      "source": [
        "# User input in Python\n",
        "\n",
        "## Objective\n",
        "1. Understand how ```input()``` function is applied.\n",
        "\n",
        "## Prerequisite\n",
        "\n",
        "- Python literals lecture & lab\n",
        "- Programming variables lecture\n",
        "\n",
        "## What do you need to complete this exercise?\n",
        "\n",
        "You can perform this exercise in any Python IDE, including JupyterLab or Google Colab.\n"
      ],
      "metadata": {
        "id": "2ITy4ycVFXBq"
      }
    },
    {
      "cell_type": "markdown",
      "source": [
        "### User input\n",
        "\n",
        "a. Write a program that prompts the user to enter the weight of a person in kilograms and outputs the equivalent weight in pounds. (Note that 1 kilogram = 2.2 pounds)."
      ],
      "metadata": {
        "id": "uQxH0KO0tsDc"
      }
    },
    {
      "cell_type": "code",
      "source": [
        "kilograms = float(input(\"Enter weight in kilograms: \"))\n",
        "pounds = kilograms * 2.2\n",
        "print(\"Weight in pounds:\", pounds)"
      ],
      "metadata": {
        "colab": {
          "base_uri": "https://localhost:8080/"
        },
        "id": "N3wgQQ672rWR",
        "outputId": "c1490e9a-ef0e-4b43-abd9-ba36298b676e"
      },
      "execution_count": 2,
      "outputs": [
        {
          "output_type": "stream",
          "name": "stdout",
          "text": [
            "Enter weight in kilograms: 20\n",
            "Weight in pounds: 44.0\n"
          ]
        }
      ]
    },
    {
      "cell_type": "markdown",
      "source": [
        "b. Interest on a credit card's unpaid balance is calculated using the average daily balance. Suppose that $netBalance$ is the balance shown in the bill, $payment$ is the payment made, $d1$ is the number of days in the billing cycle, and $d2$ is the number of days payment is made before biling cycle. Then, the average daily balance is: $$averageDailybalance = (netBalance \\times d1 - payment \\times d2)/d1$$.\n",
        "\n",
        "If the interest rate per month is, say, 0.0152, then the interest on the unpaid balance is: $interest = averageDailyBalance \\times 0.0152$\n",
        "\n",
        "Write a program that accepts as input $netBalance$, $payment$, $d1$, $d2$, and $interest rate per month$. The program outputs the interest."
      ],
      "metadata": {
        "id": "2ou6B-5b2ws3"
      }
    },
    {
      "cell_type": "code",
      "source": [
        "netBalance = float(input(\"Enter net balance: \"))\n",
        "payment = float(input(\"Enter payment: \"))\n",
        "d1 = int(input(\"Enter number of days in billing cycle: \"))\n",
        "d2 = int(input(\"Enter number of days payment is made before billing cycle: \"))\n",
        "interestratepermonth = float(input(\"Enter interest rate per month: \"))\n",
        "\n",
        "averageDailyBalance = (netBalance * d1 - payment * d2) / d1\n",
        "interest = averageDailyBalance * interestratepermonth\n",
        "\n",
        "print(\"Interest:\", interest)"
      ],
      "metadata": {
        "id": "pqP70bD02x9h",
        "outputId": "52b3f8c4-6066-4561-ae3f-6d99db4eba17",
        "colab": {
          "base_uri": "https://localhost:8080/"
        }
      },
      "execution_count": 3,
      "outputs": [
        {
          "output_type": "stream",
          "name": "stdout",
          "text": [
            "Enter net balance: 400\n",
            "Enter payment: 150\n",
            "Enter number of days in billing cycle: 30\n",
            "Enter number of days payment is made before billing cycle: 10\n",
            "Enter interest rate per month: 0.16\n",
            "Interest: 56.0\n"
          ]
        }
      ]
    },
    {
      "cell_type": "markdown",
      "source": [
        "c. Two cars A and B leave an intersection at the same time. Car A travels west at an average speed of x miles per hour and car B travels south at an average speed of y miles per hour. Write a program that prompts the user to enter the average speed of both the cars and the elapsed time (in hours and minutes) and outputs the (shortest) distance between the cars."
      ],
      "metadata": {
        "id": "gAxw_xVk25qO"
      }
    },
    {
      "cell_type": "code",
      "source": [
        "speed_a = float(input(\"Enter speed of car A (west) mph: \"))\n",
        "speed_b = float(input(\"Enter speed of car B (south) mph: \"))\n",
        "hours = int(input(\"Enter elapsed hours: \"))\n",
        "minutes = int(input(\"Enter elapsed minutes: \"))\n",
        "\n",
        "time = hours + minutes / 60.0\n",
        "distance = ((speed_a * time)**2 + (speed_b * time)**2)**0.5\n",
        "\n",
        "print(\"Distance:\", distance, \"miles\")"
      ],
      "metadata": {
        "id": "nMPuZXsH26nW",
        "outputId": "e255415b-0446-4c28-cb34-332b7e650801",
        "colab": {
          "base_uri": "https://localhost:8080/"
        }
      },
      "execution_count": 4,
      "outputs": [
        {
          "output_type": "stream",
          "name": "stdout",
          "text": [
            "Enter speed of car A (west) mph: 65\n",
            "Enter speed of car B (south) mph: 70\n",
            "Enter elapsed hours: 2\n",
            "Enter elapsed minutes: 15\n",
            "Distance: 214.9309482136065 miles\n"
          ]
        }
      ]
    },
    {
      "cell_type": "markdown",
      "source": [
        "### Troubleshooting\n",
        "\n",
        "Please troubleshoot the following issue **without using Python**, and explain your reasoning.\n",
        "\n",
        "a. ```hello = \"hello\"```  \n",
        "b. ```_var = 100```  \n",
        "c. ```!var_1 = 200```  \n",
        "d. ```print = \"print me\"```  \n",
        "e. ```False = 0```  "
      ],
      "metadata": {
        "id": "V0l5fqK-NJ2n"
      }
    },
    {
      "cell_type": "markdown",
      "source": [
        "a. hello = \"hello\". This one is ok\n",
        "b. _var = 100. This one is ok\n",
        "c. !var_1 = 200. This one will have an error because the variables can't start with \"!\"\n",
        "d. print = \"print me\". This one will have an error because are using a reserved word.\n",
        "e. False = 0. This one will have an error because the variables is starting with a Capital letter."
      ],
      "metadata": {
        "id": "Cz8CqobPNO8n"
      }
    },
    {
      "cell_type": "markdown",
      "source": [
        "## Challenges\n",
        "\n",
        "Please describe the challenges you faced during the exercise."
      ],
      "metadata": {
        "id": "xQzjxKdvvbyo"
      }
    },
    {
      "cell_type": "markdown",
      "source": [
        "No challenges this time"
      ],
      "metadata": {
        "id": "qfJNpTB5EbY4"
      }
    }
  ]
}