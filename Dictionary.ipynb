{
  "nbformat": 4,
  "nbformat_minor": 0,
  "metadata": {
    "colab": {
      "provenance": [],
      "toc_visible": true,
      "include_colab_link": true
    },
    "kernelspec": {
      "name": "python3",
      "display_name": "Python 3"
    },
    "language_info": {
      "name": "python"
    }
  },
  "cells": [
    {
      "cell_type": "markdown",
      "metadata": {
        "id": "view-in-github",
        "colab_type": "text"
      },
      "source": [
        "<a href=\"https://colab.research.google.com/github/JocksanValerdi/Python-CISC179/blob/main/Dictionary.ipynb\" target=\"_parent\"><img src=\"https://colab.research.google.com/assets/colab-badge.svg\" alt=\"Open In Colab\"/></a>"
      ]
    },
    {
      "cell_type": "markdown",
      "source": [
        "# Dictionary in Python\n",
        "In Python, a dictionary is a built-in data structure that stores data in key-value pairs. It is an unordered, mutable (changeable) collection, where each key must be unique and immutable (e.g., string, number, or tuple), while the value can be of any data type.\n",
        "\n",
        "## Objective\n",
        "- Understand how to create dictionary in Python\n",
        "- Apply various methods on a dictionary\n",
        "- Troubleshoot dictionary\n",
        "\n",
        "## Prerequisite\n",
        "\n",
        "- Lists & tuples\n",
        "- Decision and loops\n",
        "- Input functions\n",
        "\n",
        "\n",
        "## What do you need to complete this exercise?\n",
        "\n",
        "You can perform this exercise in any Python IDE, including JupyterLab or Google Colab.\n"
      ],
      "metadata": {
        "id": "2ITy4ycVFXBq"
      }
    },
    {
      "cell_type": "markdown",
      "source": [
        "# 1. Creating and accessing dictionary\n",
        "\n",
        "1a) Create dictionary of your choice of keys and values. Create dictionary size of 10 elements."
      ],
      "metadata": {
        "id": "uQxH0KO0tsDc"
      }
    },
    {
      "cell_type": "code",
      "source": [
        "my_dict = {\n",
        "    \"apple\": 1,\n",
        "    \"banana\": 2,\n",
        "    \"cherry\": 3,\n",
        "    \"date\": 4,\n",
        "    \"elderberry\": 5,\n",
        "    \"fig\": 6,\n",
        "    \"grape\": 7,\n",
        "    \"honeydew\": 8,\n",
        "    \"kiwi\": 9,\n",
        "    \"lemon\": 10\n",
        "}\n",
        "\n",
        "print(my_dict)"
      ],
      "metadata": {
        "id": "rRTflD1C9mjt",
        "outputId": "c61a4410-31cf-421c-9df8-a1a8b9720e1c",
        "colab": {
          "base_uri": "https://localhost:8080/"
        }
      },
      "execution_count": 1,
      "outputs": [
        {
          "output_type": "stream",
          "name": "stdout",
          "text": [
            "{'apple': 1, 'banana': 2, 'cherry': 3, 'date': 4, 'elderberry': 5, 'fig': 6, 'grape': 7, 'honeydew': 8, 'kiwi': 9, 'lemon': 10}\n"
          ]
        }
      ]
    },
    {
      "cell_type": "markdown",
      "source": [
        "1b. Take inputs from a user and add them in a dictionary called ```my_user_dict```\n",
        "\n",
        "Here is the example of an user input:\n",
        "\n",
        "SSN: 111-222-3333\n",
        "\n",
        "Name: Steve Hawkins\n",
        "\n",
        "The code continue to take user input and provide an option at the end of the user input; \"Do you want to continue (Y/N)\"\n",
        "\n",
        "Identify how many keys you need to create a dictionary.\n",
        "\n",
        "__Restrictions: Do not use functions and/or exceptions in this exercise__"
      ],
      "metadata": {
        "id": "0jkTuRdlA6sk"
      }
    },
    {
      "cell_type": "code",
      "source": [
        "my_user_dict = {}\n",
        "\n",
        "while True:\n",
        "    ssn = input(\"SSN: \")\n",
        "    name = input(\"Name: \")\n",
        "\n",
        "    my_user_dict[ssn] = name\n",
        "\n",
        "    choice = input(\"Do you want to continue (Y/N)? \")\n",
        "    if choice.upper() != 'Y':\n",
        "        break\n",
        "\n",
        "print(my_user_dict)"
      ],
      "metadata": {
        "id": "8ZIVOfAMQt2Z",
        "outputId": "7cbbf7a6-3387-4960-e513-7d2820374d1a",
        "colab": {
          "base_uri": "https://localhost:8080/"
        }
      },
      "execution_count": 2,
      "outputs": [
        {
          "output_type": "stream",
          "name": "stdout",
          "text": [
            "SSN: 333-44-3323\n",
            "Name: Jocksan Valerdi\n",
            "Do you want to continue (Y/N)? y\n",
            "SSN: 643-34-5676\n",
            "Name: Cesar Valerdi\n",
            "Do you want to continue (Y/N)? n\n",
            "{'333-44-3323': 'Jocksan Valerdi', '643-34-5676': 'Cesar Valerdi'}\n"
          ]
        }
      ]
    },
    {
      "cell_type": "code",
      "source": [
        "# List of tuples where each tuple represents a key-value pair\n",
        "\n",
        "a = [(\"a\", 1), (\"b\", 2), (\"c\", 3)]\n",
        "\n",
        "# Convert the list of tuples into a dictionary\n",
        "\n",
        "res = dict(a)\n",
        "\n",
        "print(res)"
      ],
      "metadata": {
        "id": "cF0UyMIqQ8V3",
        "colab": {
          "base_uri": "https://localhost:8080/"
        },
        "outputId": "d18fe353-e5e9-4de9-93d0-2f855d4d20ce"
      },
      "execution_count": 3,
      "outputs": [
        {
          "output_type": "stream",
          "name": "stdout",
          "text": [
            "{'a': 1, 'b': 2, 'c': 3}\n"
          ]
        }
      ]
    },
    {
      "cell_type": "markdown",
      "source": [
        "1c. Based on the given tuple, create a code which checks for valid key & value pairs, and check for key duplication.\n",
        "\n",
        "The code should provide assistance to a user to correct the error. For key duplication, ask user to change the key\n",
        "\n",
        "__Restrictions: Do not use functions and/or exceptions in this exercise__"
      ],
      "metadata": {
        "id": "J6CAWQq0HBv6"
      }
    },
    {
      "cell_type": "code",
      "source": [
        "my_list = [(\"Name\", \"Sarah Connor\"), (\"Date of birth\", \"1 Jan 1980\"), (\"Address\",\"1000 Black Mountain Drive\",92126),(\"Name\", \"Jim Hawkins\")]\n",
        "my_list"
      ],
      "metadata": {
        "colab": {
          "base_uri": "https://localhost:8080/"
        },
        "id": "zhseVMcKL-89",
        "outputId": "fd3a6674-d2ae-47ef-d3a7-075d22f397c7"
      },
      "execution_count": 6,
      "outputs": [
        {
          "output_type": "execute_result",
          "data": {
            "text/plain": [
              "[('Name', 'Sarah Connor'),\n",
              " ('Date of birth', '1 Jan 1980'),\n",
              " ('Address', '1000 Black Mountain Drive', 92126),\n",
              " ('Name', 'Jim Hawkins')]"
            ]
          },
          "metadata": {},
          "execution_count": 6
        }
      ]
    },
    {
      "cell_type": "code",
      "source": [
        "my_list = [(\"Name\", \"Sarah Connor\"), (\"Date of birth\", \"1 Jan 1980\"), (\"Address\", (\"1000 Black Mountain Drive\", 92126)), (\"Name\", \"Jim Hawkins\")]\n",
        "my_dict = {}\n",
        "duplicates = []\n",
        "\n",
        "for key, value in my_list:\n",
        "    if not isinstance(key, str):\n",
        "        print(f\"Invalid key: {key}\")\n",
        "        continue\n",
        "    if not isinstance(value, (str, tuple)): #modified to check for tuple as value\n",
        "        print(f\"Invalid value: {value}\")\n",
        "        continue\n",
        "    if key in my_dict:\n",
        "        print(f\"Duplicate key: {key}\")\n",
        "        duplicates.append(key)\n",
        "        continue\n",
        "    my_dict[key] = value\n",
        "\n",
        "if duplicates:\n",
        "    print(\"\\nCorrect duplicate keys:\")\n",
        "    for dup in duplicates:\n",
        "        for i, (k, v) in enumerate(my_list):\n",
        "            if k == dup:\n",
        "                new_key = input(f\"Enter new key for '{dup}' (value: {v}): \")\n",
        "                my_list[i] = (new_key, v)\n",
        "    my_dict = {}\n",
        "    for key, value in my_list:\n",
        "        if not isinstance(key, str):\n",
        "            continue\n",
        "        if not isinstance(value, (str, tuple)): #modified to check for tuple as value\n",
        "            continue\n",
        "        if key in my_dict:\n",
        "            continue\n",
        "        my_dict[key] = value\n",
        "\n",
        "print(\"\\nFinal Dictionary:\", my_dict)"
      ],
      "metadata": {
        "id": "i8JboXu9AvCV",
        "outputId": "8264b31b-2945-4547-fb8c-13d03c66a87e",
        "colab": {
          "base_uri": "https://localhost:8080/"
        }
      },
      "execution_count": 8,
      "outputs": [
        {
          "output_type": "stream",
          "name": "stdout",
          "text": [
            "Duplicate key: Name\n",
            "\n",
            "Correct duplicate keys:\n",
            "Enter new key for 'Name' (value: Sarah Connor): John Connor\n",
            "Enter new key for 'Name' (value: Jim Hawkins): Stefen Hawkings\n",
            "\n",
            "Final Dictionary: {'John Connor': 'Sarah Connor', 'Date of birth': '1 Jan 1980', 'Address': ('1000 Black Mountain Drive', 92126), 'Stefen Hawkings': 'Jim Hawkins'}\n"
          ]
        }
      ]
    },
    {
      "cell_type": "markdown",
      "source": [
        "1d. Convert the following list into a dictionary. Automate the process by using the loop.\n",
        "\n",
        "__Restrictions: Do not use functions and/or exceptions in this exercise__"
      ],
      "metadata": {
        "id": "h7Jc8xH-JEmh"
      }
    },
    {
      "cell_type": "code",
      "source": [
        "my_list = [10012,\"Mango\",43221,\"Gala apple\",14321,\"Banana\",10011,\"Watermelon\"]"
      ],
      "metadata": {
        "id": "Nfv-ATQUKlW2"
      },
      "execution_count": null,
      "outputs": []
    },
    {
      "cell_type": "code",
      "source": [
        "my_list = [10012, \"Mango\", 43221, \"Gala apple\", 14321, \"Banana\", 10011, \"Watermelon\"]\n",
        "my_dict = {}\n",
        "\n",
        "i = 0\n",
        "while i < len(my_list):\n",
        "    key = my_list[i]\n",
        "    value = my_list[i + 1]\n",
        "    my_dict[key] = value\n",
        "    i += 2\n",
        "\n",
        "print(my_dict)\n"
      ],
      "metadata": {
        "id": "F_YxR5lYM5RK",
        "outputId": "3caf2800-da62-4a0b-a96d-9dfb41f81650",
        "colab": {
          "base_uri": "https://localhost:8080/"
        }
      },
      "execution_count": 9,
      "outputs": [
        {
          "output_type": "stream",
          "name": "stdout",
          "text": [
            "{10012: 'Mango', 43221: 'Gala apple', 14321: 'Banana', 10011: 'Watermelon'}\n"
          ]
        }
      ]
    },
    {
      "cell_type": "markdown",
      "source": [
        "1e. Use the following text and count the number of words using dictionary. Remember The or the counts as 2.\n",
        "\n",
        "**The tiger (Panthera tigris) is a large cat and a member of the genus Panthera native to Asia. It has a powerful, muscular body with a large head and paws, a long tail and orange fur with black, mostly vertical stripes. It is traditionally classified into nine recent subspecies, though some recognise only two subspecies, mainland Asian tigers and the island tigers of the Sunda Islands.**"
      ],
      "metadata": {
        "id": "lLeAeQwmSHWL"
      }
    },
    {
      "cell_type": "code",
      "source": [
        "text = \"The tiger (Panthera tigris) is a large cat and a member of the genus Panthera native to Asia. It has a powerful, muscular body with a large head and paws, a long tail and orange fur with black, mostly vertical stripes. It is traditionally classified into nine recent subspecies, though some recognise only two subspecies, mainland Asian tigers and the island tigers of the Sunda Islands.\"\n",
        "\n",
        "words = text.lower().split()\n",
        "word_counts = {}\n",
        "\n",
        "for word in words:\n",
        "    word = ''.join(c for c in word if c.isalnum())\n",
        "    if word:\n",
        "        word_counts[word] = word_counts.get(word, 0) + 1\n",
        "\n",
        "for word, count in word_counts.items():\n",
        "    print(f\"{word}: {count}\")\n",
        "\n",
        "print(f\"\\nTotal words: {sum(word_counts.values())}\")"
      ],
      "metadata": {
        "id": "W41JPXPqNTLI",
        "outputId": "52d5cdc8-6812-45e1-d670-8d990e876c81",
        "colab": {
          "base_uri": "https://localhost:8080/"
        }
      },
      "execution_count": 10,
      "outputs": [
        {
          "output_type": "stream",
          "name": "stdout",
          "text": [
            "the: 4\n",
            "tiger: 1\n",
            "panthera: 2\n",
            "tigris: 1\n",
            "is: 2\n",
            "a: 5\n",
            "large: 2\n",
            "cat: 1\n",
            "and: 4\n",
            "member: 1\n",
            "of: 2\n",
            "genus: 1\n",
            "native: 1\n",
            "to: 1\n",
            "asia: 1\n",
            "it: 2\n",
            "has: 1\n",
            "powerful: 1\n",
            "muscular: 1\n",
            "body: 1\n",
            "with: 2\n",
            "head: 1\n",
            "paws: 1\n",
            "long: 1\n",
            "tail: 1\n",
            "orange: 1\n",
            "fur: 1\n",
            "black: 1\n",
            "mostly: 1\n",
            "vertical: 1\n",
            "stripes: 1\n",
            "traditionally: 1\n",
            "classified: 1\n",
            "into: 1\n",
            "nine: 1\n",
            "recent: 1\n",
            "subspecies: 2\n",
            "though: 1\n",
            "some: 1\n",
            "recognise: 1\n",
            "only: 1\n",
            "two: 1\n",
            "mainland: 1\n",
            "asian: 1\n",
            "tigers: 2\n",
            "island: 1\n",
            "sunda: 1\n",
            "islands: 1\n",
            "\n",
            "Total words: 66\n"
          ]
        }
      ]
    },
    {
      "cell_type": "markdown",
      "source": [
        "# 2. Troubleshooting"
      ],
      "metadata": {
        "id": "tJlIQIYjBPLX"
      }
    },
    {
      "cell_type": "code",
      "source": [
        "d_orig = {123:\"Coconut\"}\n",
        "d_copy = d_orig\n",
        "print(d_orig)\n",
        "print(d_copy)"
      ],
      "metadata": {
        "id": "70JnWsa6zE0M",
        "colab": {
          "base_uri": "https://localhost:8080/"
        },
        "outputId": "d4b3d786-0556-4ddf-9dc9-02ce241f1502"
      },
      "execution_count": null,
      "outputs": [
        {
          "output_type": "stream",
          "name": "stdout",
          "text": [
            "{123: 'Coconut'}\n",
            "{123: 'Coconut'}\n"
          ]
        }
      ]
    },
    {
      "cell_type": "markdown",
      "source": [
        "2a. Change the content of ```d_copy``` and make sure the content does not affect the ```d_orig``` dictionary. Verify using the code."
      ],
      "metadata": {
        "id": "eF1Xhaw4M1CG"
      }
    },
    {
      "cell_type": "code",
      "source": [
        "d_orig = {123: \"Coconut\"}\n",
        "d_copy = d_orig.copy()  # Create a shallow copy\n",
        "\n",
        "print(\"Original Dictionary (d_orig):\", d_orig)\n",
        "print(\"Copy Dictionary (d_copy):\", d_copy)\n",
        "\n",
        "d_copy[456] = \"Mango\"  # Change d_copy\n",
        "\n",
        "print(\"\\nOriginal Dictionary (d_orig) after change to d_copy:\", d_orig)\n",
        "print(\"Copy Dictionary (d_copy) after change:\", d_copy)\n",
        "\n",
        "print(\"\\nAre d_orig and d_copy the same object?\", d_orig is d_copy)"
      ],
      "metadata": {
        "id": "w93b1OeVNYuf",
        "outputId": "c38f442e-9d9e-4d4f-8bda-ddaee83b2422",
        "colab": {
          "base_uri": "https://localhost:8080/"
        }
      },
      "execution_count": 11,
      "outputs": [
        {
          "output_type": "stream",
          "name": "stdout",
          "text": [
            "Original Dictionary (d_orig): {123: 'Coconut'}\n",
            "Copy Dictionary (d_copy): {123: 'Coconut'}\n",
            "\n",
            "Original Dictionary (d_orig) after change to d_copy: {123: 'Coconut'}\n",
            "Copy Dictionary (d_copy) after change: {123: 'Coconut', 456: 'Mango'}\n",
            "\n",
            "Are d_orig and d_copy the same object? False\n"
          ]
        }
      ]
    },
    {
      "cell_type": "markdown",
      "source": [
        "2b. If it changes the content of the original dictionary, then propose how can you solve this problem."
      ],
      "metadata": {
        "id": "O0-uz6MdzJ4a"
      }
    },
    {
      "cell_type": "code",
      "source": [
        "import copy\n",
        "\n",
        "d_orig = {123: [\"Coconut\", \"Palm\"], 456: {\"Name\": \"John\"}}\n",
        "d_copy = copy.deepcopy(d_orig)  # Create a deep copy\n",
        "\n",
        "d_copy[123][0] = \"Mango\"\n",
        "d_copy[456][\"Name\"] = \"Jane\"\n",
        "\n",
        "print(\"d_orig:\", d_orig)\n",
        "print(\"d_copy:\", d_copy)\n",
        "\n",
        "print(\"Are d_orig and d_copy the same object?\", d_orig is d_copy)\n",
        "print(\"Are the internal lists the same object?\", d_orig[123] is d_copy[123])\n",
        "print(\"Are the internal dictionaries the same object?\", d_orig[456] is d_copy[456])"
      ],
      "metadata": {
        "id": "xyS0VVapNvEv",
        "outputId": "5f282495-a27d-4aed-e575-00b857bb4061",
        "colab": {
          "base_uri": "https://localhost:8080/"
        }
      },
      "execution_count": 12,
      "outputs": [
        {
          "output_type": "stream",
          "name": "stdout",
          "text": [
            "d_orig: {123: ['Coconut', 'Palm'], 456: {'Name': 'John'}}\n",
            "d_copy: {123: ['Mango', 'Palm'], 456: {'Name': 'Jane'}}\n",
            "Are d_orig and d_copy the same object? False\n",
            "Are the internal lists the same object? False\n",
            "Are the internal dictionaries the same object? False\n"
          ]
        }
      ]
    },
    {
      "cell_type": "markdown",
      "source": [
        "2c. Write a code that generates the following error and explain why there is such an error.\n",
        "```\n",
        "TypeError: unhashable type: 'list'\n",
        "```"
      ],
      "metadata": {
        "id": "6vXaWJBczn5u"
      }
    },
    {
      "cell_type": "code",
      "source": [
        "my_dict = {[1, 2, 3]: \"value\"} #Think of a dictionary like a filing cabinet. Each file folder (key) needs a label that never changes so you can find it quickl"
      ],
      "metadata": {
        "id": "dUoHv95LOCYr"
      },
      "execution_count": null,
      "outputs": []
    },
    {
      "cell_type": "markdown",
      "source": [
        "## Challenges\n",
        "\n",
        "Please describe the challenges you faced during the exercise."
      ],
      "metadata": {
        "id": "xQzjxKdvvbyo"
      }
    },
    {
      "cell_type": "markdown",
      "source": [
        "Write your challenges here"
      ],
      "metadata": {
        "id": "qfJNpTB5EbY4"
      }
    }
  ]
}