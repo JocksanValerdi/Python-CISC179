{
  "nbformat": 4,
  "nbformat_minor": 0,
  "metadata": {
    "colab": {
      "provenance": [],
      "toc_visible": true,
      "include_colab_link": true
    },
    "kernelspec": {
      "name": "python3",
      "display_name": "Python 3"
    },
    "language_info": {
      "name": "python"
    }
  },
  "cells": [
    {
      "cell_type": "markdown",
      "metadata": {
        "id": "view-in-github",
        "colab_type": "text"
      },
      "source": [
        "<a href=\"https://colab.research.google.com/github/JocksanValerdi/Python-CISC179/blob/main/Tuples.ipynb\" target=\"_parent\"><img src=\"https://colab.research.google.com/assets/colab-badge.svg\" alt=\"Open In Colab\"/></a>"
      ]
    },
    {
      "cell_type": "markdown",
      "source": [
        "# Tuples in Python\n",
        "A tuple in Python is an ordered, immutable sequence of elements. Tuples are defined using parentheses and can contain elements of different data types, including other tuples. Once a tuple is created, its elements cannot be modified, added, or removed. This immutability makes tuples suitable for representing fixed collections of data.\n",
        "\n",
        "## Objective\n",
        "- Comprehend the application of tuples\n",
        "- Understand how a tuple uses a memory\n",
        "- Apply various operations on tuples\n",
        "\n",
        "## Prerequisite\n",
        "\n",
        "- Lists\n",
        "- Decision and loops\n",
        "- Input functions\n",
        "- Python literals\n",
        "- Programming variables\n",
        "\n",
        "\n",
        "## What do you need to complete this exercise?\n",
        "\n",
        "You can perform this exercise in any Python IDE, including JupyterLab or Google Colab.\n"
      ],
      "metadata": {
        "id": "2ITy4ycVFXBq"
      }
    },
    {
      "cell_type": "markdown",
      "source": [
        "# 1. Exercising tuples\n",
        "\n",
        "1a) Take five inputs from an user and save it in a tuple called ```my_tuple```"
      ],
      "metadata": {
        "id": "uQxH0KO0tsDc"
      }
    },
    {
      "cell_type": "code",
      "source": [
        "my_tuple = tuple(input(\"Enter five values separated by spaces: \").split())\n",
        "print(my_tuple)"
      ],
      "metadata": {
        "id": "rRTflD1C9mjt",
        "outputId": "28b0dba5-95dd-414e-a8df-4316b84ac3ee",
        "colab": {
          "base_uri": "https://localhost:8080/"
        }
      },
      "execution_count": 1,
      "outputs": [
        {
          "output_type": "stream",
          "name": "stdout",
          "text": [
            "Enter five values separated by spaces: 34 12 15 10 22\n",
            "('34', '12', '15', '10', '22')\n"
          ]
        }
      ]
    },
    {
      "cell_type": "markdown",
      "source": [
        "1b. How do you assign a single element in a tuple?"
      ],
      "metadata": {
        "id": "0jkTuRdlA6sk"
      }
    },
    {
      "cell_type": "code",
      "source": [
        "my_tuple = tuple(input(\"Enter five values separated by spaces: \").split())\n",
        "index_to_change = int(input(\"Enter the index of the element to change (0-4): \"))\n",
        "new_value = input(\"Enter the new value: \")\n",
        "\n",
        "if 0 <= index_to_change < len(my_tuple):\n",
        "    new_tuple = my_tuple[:index_to_change] + (new_value,) + my_tuple[index_to_change + 1:]\n",
        "    print(new_tuple)\n",
        "else:\n",
        "    print(\"Invalid index.\")"
      ],
      "metadata": {
        "id": "8ZIVOfAMQt2Z",
        "outputId": "c08db652-4771-4d4a-d1cf-80a8480f88a3",
        "colab": {
          "base_uri": "https://localhost:8080/"
        }
      },
      "execution_count": 2,
      "outputs": [
        {
          "output_type": "stream",
          "name": "stdout",
          "text": [
            "Enter five values separated by spaces: 2 11 5 4 6\n",
            "Enter the index of the element to change (0-4): 3\n",
            "Enter the new value: 23\n",
            "('2', '11', '5', '23', '6')\n"
          ]
        }
      ]
    },
    {
      "cell_type": "markdown",
      "source": [
        "1c. ```my_tuple = (1,2,3,4,3,2,1,2,3,5,4,3,2,1)```\n",
        "Count the repeated integers and print the result on the console."
      ],
      "metadata": {
        "id": "Wv1LOaouA_Gq"
      }
    },
    {
      "cell_type": "code",
      "source": [
        "my_tuple = (1, 2, 3, 4, 3, 2, 1, 2, 3, 5, 4, 3, 2, 1)\n",
        "counts = {}\n",
        "\n",
        "for num in my_tuple:\n",
        "    if num in counts:\n",
        "        counts[num] += 1\n",
        "    else:\n",
        "        counts[num] = 1\n",
        "\n",
        "for num, count in counts.items():\n",
        "    print(f\"{num}: {count}\")"
      ],
      "metadata": {
        "id": "cF0UyMIqQ8V3",
        "outputId": "f74899b0-ed1a-446d-c729-02364bee1335",
        "colab": {
          "base_uri": "https://localhost:8080/"
        }
      },
      "execution_count": 3,
      "outputs": [
        {
          "output_type": "stream",
          "name": "stdout",
          "text": [
            "1: 3\n",
            "2: 4\n",
            "3: 4\n",
            "4: 2\n",
            "5: 1\n"
          ]
        }
      ]
    },
    {
      "cell_type": "markdown",
      "source": [
        "1d. ```my_tuple = my_tuple + my_tuple```\n",
        "\n",
        "\n",
        "Proof that ```my_tuple``` in part c is different than the ```my_tuple``` in part d.\n"
      ],
      "metadata": {
        "id": "0IWZsl7LBGvD"
      }
    },
    {
      "cell_type": "code",
      "source": [
        "my_tuple = (1, 2, 3, 4, 3, 2, 1, 2, 3, 5, 4, 3, 2, 1)\n",
        "print(\"Original my_tuple (Part C):\", my_tuple)\n",
        "print(\"Original my_tuple ID (Part C):\", id(my_tuple))\n",
        "print(\"Original my_tuple Length (Part C):\", len(my_tuple))\n",
        "\n",
        "my_tuple = my_tuple + my_tuple\n",
        "print(\"Modified my_tuple (Part D):\", my_tuple)\n",
        "print(\"Modified my_tuple ID (Part D):\", id(my_tuple))\n",
        "print(\"Modified my_tuple Length (Part D):\", len(my_tuple))\n",
        "\n",
        "# Proof of Difference\n",
        "print(\"Are the tuples the same object?\", id(my_tuple) == id((1, 2, 3, 4, 3, 2, 1, 2, 3, 5, 4, 3, 2, 1)))\n",
        "print(\"Are the tuples equal in value?\", my_tuple == (1, 2, 3, 4, 3, 2, 1, 2, 3, 5, 4, 3, 2, 1))\n",
        "\n",
        "#Proof by content\n",
        "print(\"First 5 elements of Tuple C:\", (1, 2, 3, 4, 3, 2, 1, 2, 3, 5, 4, 3, 2, 1)[:5])\n",
        "print(\"First 5 elements of Tuple D:\", my_tuple[:5])"
      ],
      "metadata": {
        "id": "S5kO371-Q_NL",
        "outputId": "3788bebb-4f45-494b-fea1-04e12117cd4e",
        "colab": {
          "base_uri": "https://localhost:8080/"
        }
      },
      "execution_count": 1,
      "outputs": [
        {
          "output_type": "stream",
          "name": "stdout",
          "text": [
            "Original my_tuple (Part C): (1, 2, 3, 4, 3, 2, 1, 2, 3, 5, 4, 3, 2, 1)\n",
            "Original my_tuple ID (Part C): 139063068592224\n",
            "Original my_tuple Length (Part C): 14\n",
            "Modified my_tuple (Part D): (1, 2, 3, 4, 3, 2, 1, 2, 3, 5, 4, 3, 2, 1, 1, 2, 3, 4, 3, 2, 1, 2, 3, 5, 4, 3, 2, 1)\n",
            "Modified my_tuple ID (Part D): 139063059550256\n",
            "Modified my_tuple Length (Part D): 28\n",
            "Are the tuples the same object? False\n",
            "Are the tuples equal in value? False\n",
            "First 5 elements of Tuple C: (1, 2, 3, 4, 3)\n",
            "First 5 elements of Tuple D: (1, 2, 3, 4, 3)\n"
          ]
        }
      ]
    },
    {
      "cell_type": "markdown",
      "source": [
        "1e. Explain why the following operations aren’t legal for\n",
        "the tuple. Answer without using the Python.\n",
        "```\n",
        "x = (1,2,3,4)\n",
        "x.append(1)\n",
        "x[1] = \"hello\"\n",
        "del x[2]\n",
        "```"
      ],
      "metadata": {
        "id": "gdub5W3O0isl"
      }
    },
    {
      "cell_type": "markdown",
      "source": [
        "x = (1,2,3,4)\n",
        "\n",
        "This one is legal\n",
        "\n",
        "x.append(1):\n",
        "\n",
        "Tuples are immutable, meaning they cannot be changed after they are created.\n",
        "\n",
        "x[1] = \"hello\":\n",
        "\n",
        "This operation attempts to assign a new value (\"hello\") to the element at index 1 of the tuple.\n",
        "\n",
        "del x[2]:\n",
        "\n",
        "The del statement, when used with an index, attempts to remove an element from a sequence."
      ],
      "metadata": {
        "id": "sLoX5Dtt0_rX"
      }
    },
    {
      "cell_type": "markdown",
      "source": [
        "# 2. Packing and unpacking tuples"
      ],
      "metadata": {
        "id": "tJlIQIYjBPLX"
      }
    },
    {
      "cell_type": "markdown",
      "source": [
        "Python permits tuples to appear on the left side of an assignment operator, in which case variables in the tuple receive the corresponding values from the tuple on the right side of the assignment operator. Here’s a simple example:"
      ],
      "metadata": {
        "id": "QkNQDkq7zAOr"
      }
    },
    {
      "cell_type": "code",
      "source": [
        "(one, two, three, four) =  (1, 2, 3, 4)"
      ],
      "metadata": {
        "id": "70JnWsa6zE0M"
      },
      "execution_count": null,
      "outputs": []
    },
    {
      "cell_type": "markdown",
      "source": [
        "2a. What is the data type of each variable?"
      ],
      "metadata": {
        "id": "O0-uz6MdzJ4a"
      }
    },
    {
      "cell_type": "markdown",
      "source": [
        "2b. Python has an extended unpacking feature, allowing an element marked with * to absorb any number of elements not matching the other elements. For example,"
      ],
      "metadata": {
        "id": "6vXaWJBczn5u"
      }
    },
    {
      "cell_type": "code",
      "source": [
        "x = (1, 2, 3, 4)\n",
        "a, b, *c = x\n",
        "a, b, c"
      ],
      "metadata": {
        "colab": {
          "base_uri": "https://localhost:8080/"
        },
        "id": "Dkgby1wqzyx8",
        "outputId": "e08b90fc-b334-46a6-8e32-3bab067bde22"
      },
      "execution_count": 2,
      "outputs": [
        {
          "output_type": "execute_result",
          "data": {
            "text/plain": [
              "(1, 2, [3, 4])"
            ]
          },
          "metadata": {},
          "execution_count": 2
        }
      ]
    },
    {
      "cell_type": "markdown",
      "source": [
        "2c. What will be the result of ```a, *b, c = x```?"
      ],
      "metadata": {
        "id": "l9xBGV0K0L6_"
      }
    },
    {
      "cell_type": "code",
      "source": [
        "x = (1, 2, 3, 4)\n",
        "a, *b, c = x\n",
        "a, b, c"
      ],
      "metadata": {
        "id": "fQr5X9N0RceU",
        "outputId": "6fd8873b-11ed-487e-db3b-28c6c13aed1b",
        "colab": {
          "base_uri": "https://localhost:8080/"
        }
      },
      "execution_count": 5,
      "outputs": [
        {
          "output_type": "execute_result",
          "data": {
            "text/plain": [
              "(1, [2, 3], 4)"
            ]
          },
          "metadata": {},
          "execution_count": 5
        }
      ]
    },
    {
      "cell_type": "markdown",
      "source": [
        "# 3. Memory management\n",
        "\n",
        "```\n",
        "my_x = [100,200,300,400]\n",
        "my_y = (200,300,400,500)\n",
        "\n",
        "```\n",
        "Discuss how memory addresses are assigned to each index of the list and the tuple. Pay attention to new addresses & re-used addresses.\n",
        "\n",
        "| Index | my_x | my_x |\n",
        "|   -   |  -   |  -   |\n",
        "|   0   |   -  |  -   |\n",
        "|   1   |   -  |  -   |\n",
        "|   2   |   -  |  -   |\n",
        "|   3   |   -  |  -   |\n",
        "\n"
      ],
      "metadata": {
        "id": "QV96NnL82MPT"
      }
    },
    {
      "cell_type": "markdown",
      "source": [
        "## Challenges\n",
        "\n",
        "Please describe the challenges you faced during the exercise."
      ],
      "metadata": {
        "id": "xQzjxKdvvbyo"
      }
    },
    {
      "cell_type": "markdown",
      "source": [
        "The last excercise I didn't understand how to get the addresses"
      ],
      "metadata": {
        "id": "qfJNpTB5EbY4"
      }
    }
  ]
}