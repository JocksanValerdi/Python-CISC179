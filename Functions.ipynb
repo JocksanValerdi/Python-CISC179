{
  "nbformat": 4,
  "nbformat_minor": 0,
  "metadata": {
    "colab": {
      "provenance": [],
      "include_colab_link": true
    },
    "kernelspec": {
      "name": "python3",
      "display_name": "Python 3"
    },
    "language_info": {
      "name": "python"
    }
  },
  "cells": [
    {
      "cell_type": "markdown",
      "metadata": {
        "id": "view-in-github",
        "colab_type": "text"
      },
      "source": [
        "<a href=\"https://colab.research.google.com/github/JocksanValerdi/Python-CISC179/blob/main/Functions.ipynb\" target=\"_parent\"><img src=\"https://colab.research.google.com/assets/colab-badge.svg\" alt=\"Open In Colab\"/></a>"
      ]
    },
    {
      "cell_type": "markdown",
      "source": [
        "# Functions in Python\n",
        "Functions are designed to perform the same task repeatedly. For the user, they operate like a black box, with no visibility into how the function is implemented. Users provide compatible arguments to the function, or in some cases, no arguments at all, and the function executes according to the programmer's implementation.\n",
        "\n",
        "## Objective\n",
        "- Understand how arguments are used in functions\n",
        "- Function variables visibility and global variables\n",
        "- Troubleshoot functions\n",
        "\n",
        "## Prerequisite\n",
        "\n",
        "- Lists & tuples\n",
        "- Decision and loops\n",
        "\n",
        "\n",
        "## What do you need to complete this exercise?\n",
        "\n",
        "You can perform this exercise in any Python IDE, including JupyterLab or Google Colab.\n"
      ],
      "metadata": {
        "id": "2ITy4ycVFXBq"
      }
    },
    {
      "cell_type": "markdown",
      "source": [
        "# Create a unit conversion program using functions\n",
        "1a. The user selects kilometers per liter (kpl), and the response will be provided in miles per gallon (mpg). The units must be interchangeable, so the program will ask the user whether to convert from kpl to mpg or vice versa.\n",
        "\n",
        "The program will prompt the user for input and deliver output with the appropriate units.\n",
        "\n",
        "Additionally, the program will include input validation. For example, it will not accept letter inputs and will provide an error message to the user when invalid input is detected.\n",
        "\n",
        "The function will also allow multiple arguments, enabling the user to convert multiple values at once.\n",
        "\n",
        "Research and find out the conversion factor between the units."
      ],
      "metadata": {
        "id": "uQxH0KO0tsDc"
      }
    },
    {
      "cell_type": "code",
      "source": [
        "def convert_fuel(value, conversion_type):\n",
        "    \"\"\"Converts fuel efficiency.\"\"\"\n",
        "    kpl_to_mpg = 2.35215\n",
        "    mpg_to_kpl = 1 / kpl_to_mpg\n",
        "\n",
        "    try:\n",
        "        value = float(value)\n",
        "    except ValueError:\n",
        "        return \"Invalid input: Please enter a number.\"\n",
        "\n",
        "    if conversion_type == \"kpl_to_mpg\":\n",
        "        return value * kpl_to_mpg\n",
        "    elif conversion_type == \"mpg_to_kpl\":\n",
        "        return value * mpg_to_kpl\n",
        "    else:\n",
        "        return \"Invalid conversion type.\"\n",
        "\n",
        "def main():\n",
        "    \"\"\"Gets user input and performs conversion.\"\"\"\n",
        "    while True:\n",
        "        conv_type = input(\"Convert kpl to mpg or mpg to kpl? (kpl_to_mpg/mpg_to_kpl): \").lower()\n",
        "        if conv_type in (\"kpl_to_mpg\", \"mpg_to_kpl\"):\n",
        "            break\n",
        "        else:\n",
        "            print(\"Invalid input.\")\n",
        "\n",
        "    while True:\n",
        "        values_input = input(\"Enter value(s) separated by commas: \")\n",
        "        values = values_input.split(\",\")\n",
        "        try:\n",
        "            values = [val.strip() for val in values]\n",
        "            break\n",
        "        except:\n",
        "          print(\"Invalid Input\")\n",
        "\n",
        "    results = []\n",
        "    for val in values:\n",
        "        result = convert_fuel(val, conv_type)\n",
        "        results.append(result)\n",
        "\n",
        "    if len(results) == 1:\n",
        "        print(results[0])\n",
        "    else:\n",
        "        print(results)\n",
        "\n",
        "if __name__ == \"__main__\":\n",
        "    main()"
      ],
      "metadata": {
        "id": "rRTflD1C9mjt",
        "outputId": "d77c1c6b-7d23-46f3-edfd-bed458bd4dfc",
        "colab": {
          "base_uri": "https://localhost:8080/"
        }
      },
      "execution_count": 2,
      "outputs": [
        {
          "output_type": "stream",
          "name": "stdout",
          "text": [
            "Convert kpl to mpg or mpg to kpl? (kpl_to_mpg/mpg_to_kpl): mpg\n",
            "Invalid input.\n",
            "Convert kpl to mpg or mpg to kpl? (kpl_to_mpg/mpg_to_kpl): mpg_to_kpl\n",
            "Enter value(s) separated by commas: 10,100\n",
            "[4.251429543183896, 42.51429543183895]\n"
          ]
        }
      ]
    },
    {
      "cell_type": "markdown",
      "source": [
        "1b. How would you write a function that could take any number of unnamed arguments and print their values out in reverse order?\n"
      ],
      "metadata": {
        "id": "0jkTuRdlA6sk"
      }
    },
    {
      "cell_type": "code",
      "source": [
        "def print_reverse(*args):\n",
        "    \"\"\"Prints unnamed arguments in reverse order.\"\"\"\n",
        "    for arg in reversed(args):\n",
        "        print(arg)\n",
        "\n",
        "print_reverse(1, 2, 3, \"hello\", 5.5)"
      ],
      "metadata": {
        "id": "0tnioEWK8kjq",
        "outputId": "e88d3967-fcd6-448f-f475-848d77ea4e99",
        "colab": {
          "base_uri": "https://localhost:8080/"
        }
      },
      "execution_count": 6,
      "outputs": [
        {
          "output_type": "stream",
          "name": "stdout",
          "text": [
            "5.5\n",
            "hello\n",
            "3\n",
            "2\n",
            "1\n"
          ]
        }
      ]
    },
    {
      "cell_type": "markdown",
      "source": [
        "1c. What would be the result of changing a list or dictionary that was passed into a function as a parameter value? Which operations would be likely to create changes that would be visible outside the function? What steps might you take to minimize that risk?\n",
        "\n",
        "Explain the above statements with the help of code."
      ],
      "metadata": {
        "id": "sL7k6J70zdzH"
      }
    },
    {
      "cell_type": "code",
      "source": [
        "def modify_list(my_list):\n",
        "    \"\"\"Modifies a list passed as a parameter.\"\"\"\n",
        "    my_list.append(4)  # Modifies the original list\n",
        "    my_list = [1, 2, 3] # Reassigns the local variable, not the original\n",
        "    my_list.append(5) # modifies the local variable\n",
        "\n",
        "def modify_dict(my_dict):\n",
        "    \"\"\"Modifies a dictionary passed as a parameter.\"\"\"\n",
        "    my_dict[\"new_key\"] = \"new_value\" # Modifies the original dictionary\n",
        "    my_dict = {\"a\":1} #reassigns local variable.\n",
        "    my_dict['b'] = 2 #modifies local variable.\n",
        "\n",
        "# Example usage with lists\n",
        "original_list = [1, 2, 3]\n",
        "modify_list(original_list)\n",
        "print(original_list)  # Output: [1, 2, 3, 4]\n",
        "\n",
        "# Example usage with dictionaries\n",
        "original_dict = {\"key\": \"value\"}\n",
        "modify_dict(original_dict)\n",
        "print(original_dict)  # Output: {'key': 'value', 'new_key': 'new_value'}\n",
        "\n",
        "# Minimizing Risk: Creating a Copy\n",
        "def modify_list_safe(my_list):\n",
        "    \"\"\"Modifies a copy of the list.\"\"\"\n",
        "    local_list = my_list[:]  # Create a shallow copy\n",
        "    local_list.append(4)\n",
        "    local_list = [1,2,3]\n",
        "    local_list.append(5)\n",
        "    print(\"local list:\", local_list)\n",
        "\n",
        "original_list_safe = [1, 2, 3]\n",
        "modify_list_safe(original_list_safe)\n",
        "print(original_list_safe)  # Output: [1, 2, 3]\n",
        "\n",
        "def modify_dict_safe(my_dict):\n",
        "    local_dict = my_dict.copy() #Create Shallow copy\n",
        "    local_dict['new_key'] = 'new_value'\n",
        "    local_dict = {'a':1}\n",
        "    local_dict['b'] = 2\n",
        "    print(\"local dict:\", local_dict)\n",
        "\n",
        "original_dict_safe = {\"key\": \"value\"}\n",
        "modify_dict_safe(original_dict_safe)\n",
        "print(original_dict_safe)"
      ],
      "metadata": {
        "id": "8ZIVOfAMQt2Z",
        "outputId": "dc2aee28-dea6-4b01-c2b3-fbd3b190e09a",
        "colab": {
          "base_uri": "https://localhost:8080/"
        }
      },
      "execution_count": 10,
      "outputs": [
        {
          "output_type": "stream",
          "name": "stdout",
          "text": [
            "[1, 2, 3, 4]\n",
            "{'key': 'value', 'new_key': 'new_value'}\n",
            "local list: [1, 2, 3, 5]\n",
            "[1, 2, 3]\n",
            "local dict: {'a': 1, 'b': 2}\n",
            "{'key': 'value'}\n"
          ]
        }
      ]
    },
    {
      "cell_type": "markdown",
      "source": [
        "1d. Assuming that ```x = 5```, what will be the value of ```x``` after ```funct_1()``` below executes? After ```funct_2()``` executes?\n"
      ],
      "metadata": {
        "id": "1wWF-wZx2h9s"
      }
    },
    {
      "cell_type": "code",
      "source": [
        "x = 5\n",
        "def funct_1():\n",
        "  x=3\n",
        "\n",
        "def funct_2():\n",
        "  global x\n",
        "  x=2"
      ],
      "metadata": {
        "id": "nvd-xB2v3AYh"
      },
      "execution_count": 11,
      "outputs": []
    },
    {
      "cell_type": "markdown",
      "source": [
        "After funct_1() the result will be 5\n",
        "\n",
        "After funct_2() the result will be 2\n",
        "\n"
      ],
      "metadata": {
        "id": "-6SlX0Fp-qHw"
      }
    },
    {
      "cell_type": "markdown",
      "source": [
        "# 2. Troubleshooting"
      ],
      "metadata": {
        "id": "tJlIQIYjBPLX"
      }
    },
    {
      "cell_type": "markdown",
      "source": [
        "Correct the following code. There might be more than one correct answers. Explain your reasoning."
      ],
      "metadata": {
        "id": "V8HkUVFy6DlD"
      }
    },
    {
      "cell_type": "code",
      "source": [
        "def my_func(a,b,**c):\n",
        "  print(c)\n",
        "\n",
        "my_func(1,2,3,4,5,6)"
      ],
      "metadata": {
        "id": "bJzMzbxIsAU9",
        "collapsed": true,
        "outputId": "d7d69d1b-a24c-4032-ff3a-2ad6b15cb927",
        "colab": {
          "base_uri": "https://localhost:8080/",
          "height": 176
        }
      },
      "execution_count": 13,
      "outputs": [
        {
          "output_type": "error",
          "ename": "TypeError",
          "evalue": "my_func() takes 2 positional arguments but 6 were given",
          "traceback": [
            "\u001b[0;31m---------------------------------------------------------------------------\u001b[0m",
            "\u001b[0;31mTypeError\u001b[0m                                 Traceback (most recent call last)",
            "\u001b[0;32m<ipython-input-13-ab5e2798406c>\u001b[0m in \u001b[0;36m<cell line: 0>\u001b[0;34m()\u001b[0m\n\u001b[1;32m      2\u001b[0m   \u001b[0mprint\u001b[0m\u001b[0;34m(\u001b[0m\u001b[0mc\u001b[0m\u001b[0;34m)\u001b[0m\u001b[0;34m\u001b[0m\u001b[0;34m\u001b[0m\u001b[0m\n\u001b[1;32m      3\u001b[0m \u001b[0;34m\u001b[0m\u001b[0m\n\u001b[0;32m----> 4\u001b[0;31m \u001b[0mmy_func\u001b[0m\u001b[0;34m(\u001b[0m\u001b[0;36m1\u001b[0m\u001b[0;34m,\u001b[0m\u001b[0;36m2\u001b[0m\u001b[0;34m,\u001b[0m\u001b[0;36m3\u001b[0m\u001b[0;34m,\u001b[0m\u001b[0;36m4\u001b[0m\u001b[0;34m,\u001b[0m\u001b[0;36m5\u001b[0m\u001b[0;34m,\u001b[0m\u001b[0;36m6\u001b[0m\u001b[0;34m)\u001b[0m\u001b[0;34m\u001b[0m\u001b[0;34m\u001b[0m\u001b[0m\n\u001b[0m",
            "\u001b[0;31mTypeError\u001b[0m: my_func() takes 2 positional arguments but 6 were given"
          ]
        }
      ]
    },
    {
      "cell_type": "code",
      "source": [
        "#Corrected code\n",
        "\n",
        "def my_func(a, b, **c):\n",
        "    print(c)\n",
        "\n",
        "my_func(1, 2, arg1=3, arg2=4, arg3=5, arg4=6)"
      ],
      "metadata": {
        "id": "db4AHOGP_htp",
        "outputId": "25f18480-3e06-4128-8ef4-e43b53b5604c",
        "colab": {
          "base_uri": "https://localhost:8080/"
        }
      },
      "execution_count": 14,
      "outputs": [
        {
          "output_type": "stream",
          "name": "stdout",
          "text": [
            "{'arg1': 3, 'arg2': 4, 'arg3': 5, 'arg4': 6}\n"
          ]
        }
      ]
    },
    {
      "cell_type": "markdown",
      "source": [
        "Using the following code, x should print 100 but it prints 10, why?"
      ],
      "metadata": {
        "id": "sYDRYXa9vbX4"
      }
    },
    {
      "cell_type": "code",
      "source": [
        "def my_func_global():\n",
        "  x = 100\n",
        "\n",
        "global x\n",
        "x = 10\n",
        "my_func_global()\n",
        "print(x)"
      ],
      "metadata": {
        "id": "w93b1OeVNYuf",
        "colab": {
          "base_uri": "https://localhost:8080/"
        },
        "outputId": "ca0b3182-38f4-4ae1-c163-f713ea7c765d"
      },
      "execution_count": null,
      "outputs": [
        {
          "output_type": "stream",
          "name": "stdout",
          "text": [
            "10\n"
          ]
        }
      ]
    },
    {
      "cell_type": "markdown",
      "source": [
        "The issue was in the python interpretation of the global x"
      ],
      "metadata": {
        "id": "sPLSJ-GoAFZF"
      }
    },
    {
      "cell_type": "code",
      "source": [
        "#Corrected Code\n",
        "\n",
        "x = 10  # Initialize global x (optional, but good practice)\n",
        "\n",
        "def my_func_global():\n",
        "    global x  # Declare x as global within the function\n",
        "    x = 100\n",
        "\n",
        "my_func_global()\n",
        "print(x)"
      ],
      "metadata": {
        "id": "08l9-DDC_7Wr",
        "outputId": "873c2528-5710-471c-dcc2-1c2cbf9719f2",
        "colab": {
          "base_uri": "https://localhost:8080/"
        }
      },
      "execution_count": 16,
      "outputs": [
        {
          "output_type": "stream",
          "name": "stdout",
          "text": [
            "100\n"
          ]
        }
      ]
    },
    {
      "cell_type": "markdown",
      "source": [
        "## Challenges\n",
        "\n",
        "Please describe the challenges you faced during the exercise."
      ],
      "metadata": {
        "id": "xQzjxKdvvbyo"
      }
    },
    {
      "cell_type": "markdown",
      "source": [
        "No challenges were here"
      ],
      "metadata": {
        "id": "qfJNpTB5EbY4"
      }
    }
  ]
}